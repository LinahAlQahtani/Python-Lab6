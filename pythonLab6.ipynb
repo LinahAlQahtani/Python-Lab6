{
 "cells": [
  {
   "cell_type": "code",
   "execution_count": null,
   "id": "a0f180c3",
   "metadata": {},
   "outputs": [
    {
     "name": "stdout",
     "output_type": "stream",
     "text": [
      "The wanted number is:1111111111\n",
      "The phone owner is: Amal\n",
      "The wanted number is:11111\n",
      "This is invalid number!\n",
      "The wanted number is:111qqqqwww\n",
      "This is invalid number!\n",
      "The wanted number is:0000000000\n",
      "Sorry, The phone number is not found!\n"
     ]
    }
   ],
   "source": [
    "phBook = { '1111111111':\"Amal\",\n",
    "    '2222222222':\"Mohammed\",\n",
    "    '3333333333':\"Khadija\",\n",
    "    '4444444444':\"Abdullah\",\n",
    "    '5555555555':\"Rawan\",\n",
    "    '6666666666':\"Faisal\",\n",
    "    '7777777777':\"Layla\"\n",
    "                }\n",
    "while True:\n",
    "        num = input('The wanted number is:')\n",
    "        if len (num) != 10:\n",
    "            print ('This is invalid number!')\n",
    "        elif not num.isnumeric():\n",
    "            print ('This is invalid number!')\n",
    "        elif num in phBook:\n",
    "            print ('The phone owner is:', phBook[num] )\n",
    "        else:\n",
    "            print ('Sorry, The phone number is not found!')"
   ]
  },
  {
   "cell_type": "code",
   "execution_count": null,
   "id": "703f7a90",
   "metadata": {},
   "outputs": [],
   "source": []
  }
 ],
 "metadata": {
  "kernelspec": {
   "display_name": "Python 3 (ipykernel)",
   "language": "python",
   "name": "python3"
  },
  "language_info": {
   "codemirror_mode": {
    "name": "ipython",
    "version": 3
   },
   "file_extension": ".py",
   "mimetype": "text/x-python",
   "name": "python",
   "nbconvert_exporter": "python",
   "pygments_lexer": "ipython3",
   "version": "3.11.3"
  }
 },
 "nbformat": 4,
 "nbformat_minor": 5
}
